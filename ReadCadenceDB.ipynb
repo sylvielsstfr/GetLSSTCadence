{
 "cells": [
  {
   "cell_type": "code",
   "execution_count": 1,
   "metadata": {},
   "outputs": [],
   "source": [
    "import sqlite3"
   ]
  },
  {
   "cell_type": "code",
   "execution_count": 2,
   "metadata": {},
   "outputs": [],
   "source": [
    "conn = sqlite3.connect('./minion_1016_sqlite.db')"
   ]
  },
  {
   "cell_type": "code",
   "execution_count": 3,
   "metadata": {},
   "outputs": [],
   "source": [
    "cursor=conn.cursor()"
   ]
  },
  {
   "cell_type": "code",
   "execution_count": 4,
   "metadata": {},
   "outputs": [],
   "source": [
    "cursor=conn.execute(\"SELECT obsHistID, night,expDate,expMJD,filter,airmass,Field_fieldID from ObsHistory\")"
   ]
  },
  {
   "cell_type": "code",
   "execution_count": 5,
   "metadata": {},
   "outputs": [
    {
     "name": "stdout",
     "output_type": "stream",
     "text": [
      "obsHistID =  1\n",
      "night     =  0\n",
      "expDate   =  2922\n",
      "expMJD    =  59580.033829\n",
      "filter    =  y\n",
      "airmass   =  1.463594\n",
      "Field_fieldID   =  316 \n",
      "\n",
      "obsHistID =  2\n",
      "night     =  0\n",
      "expDate   =  2961\n",
      "expMJD    =  59580.034275\n",
      "filter    =  y\n",
      "airmass   =  1.454958\n",
      "Field_fieldID   =  372 \n",
      "\n",
      "obsHistID =  3\n",
      "night     =  0\n",
      "expDate   =  2999\n",
      "expMJD    =  59580.034722\n",
      "filter    =  y\n",
      "airmass   =  1.448796\n",
      "Field_fieldID   =  441 \n",
      "\n",
      "obsHistID =  4\n",
      "night     =  0\n",
      "expDate   =  3038\n",
      "expMJD    =  59580.035169\n",
      "filter    =  y\n",
      "airmass   =  1.445307\n",
      "Field_fieldID   =  505 \n",
      "\n",
      "obsHistID =  5\n",
      "night     =  0\n",
      "expDate   =  3077\n",
      "expMJD    =  59580.035616\n",
      "filter    =  y\n",
      "airmass   =  1.444491\n",
      "Field_fieldID   =  587 \n",
      "\n",
      "obsHistID =  6\n",
      "night     =  0\n",
      "expDate   =  3115\n",
      "expMJD    =  59580.036062\n",
      "filter    =  y\n",
      "airmass   =  1.446395\n",
      "Field_fieldID   =  680 \n",
      "\n",
      "obsHistID =  7\n",
      "night     =  0\n",
      "expDate   =  3154\n",
      "expMJD    =  59580.036509\n",
      "filter    =  y\n",
      "airmass   =  1.451089\n",
      "Field_fieldID   =  770 \n",
      "\n",
      "obsHistID =  8\n",
      "night     =  0\n",
      "expDate   =  3192\n",
      "expMJD    =  59580.036955\n",
      "filter    =  y\n",
      "airmass   =  1.458672\n",
      "Field_fieldID   =  857 \n",
      "\n",
      "obsHistID =  9\n",
      "night     =  0\n",
      "expDate   =  3231\n",
      "expMJD    =  59580.037401\n",
      "filter    =  y\n",
      "airmass   =  1.469385\n",
      "Field_fieldID   =  957 \n",
      "\n",
      "obsHistID =  10\n",
      "night     =  0\n",
      "expDate   =  3270\n",
      "expMJD    =  59580.037847\n",
      "filter    =  y\n",
      "airmass   =  1.40756\n",
      "Field_fieldID   =  1021 \n",
      "\n",
      "obsHistID =  11\n",
      "night     =  0\n",
      "expDate   =  3308\n",
      "expMJD    =  59580.038293\n",
      "filter    =  y\n",
      "airmass   =  1.359249\n",
      "Field_fieldID   =  1110 \n",
      "\n"
     ]
    }
   ],
   "source": [
    "index=0\n",
    "for row in cursor:\n",
    "    print \"obsHistID = \",row[0]\n",
    "    print \"night     = \",row[1]\n",
    "    print \"expDate   = \",row[2]\n",
    "    print \"expMJD    = \",row[3]\n",
    "    print \"filter    = \",row[4]\n",
    "    print \"airmass   = \",row[5]\n",
    "    print \"Field_fieldID   = \",row[6], \"\\n\"\n",
    "    \n",
    "    index+=1\n",
    "    if index>10:\n",
    "        break"
   ]
  },
  {
   "cell_type": "code",
   "execution_count": null,
   "metadata": {},
   "outputs": [],
   "source": []
  }
 ],
 "metadata": {
  "kernelspec": {
   "display_name": "Python 2",
   "language": "python",
   "name": "python2"
  },
  "language_info": {
   "codemirror_mode": {
    "name": "ipython",
    "version": 2
   },
   "file_extension": ".py",
   "mimetype": "text/x-python",
   "name": "python",
   "nbconvert_exporter": "python",
   "pygments_lexer": "ipython2",
   "version": "2.7.14"
  },
  "toc": {
   "nav_menu": {},
   "number_sections": true,
   "sideBar": true,
   "skip_h1_title": false,
   "toc_cell": false,
   "toc_position": {},
   "toc_section_display": "block",
   "toc_window_display": false
  }
 },
 "nbformat": 4,
 "nbformat_minor": 2
}
